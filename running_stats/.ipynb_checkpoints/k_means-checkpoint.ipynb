{
 "cells": [
  {
   "cell_type": "code",
   "execution_count": 1,
   "metadata": {
    "collapsed": false
   },
   "outputs": [],
   "source": [
    "import numpy as np\n",
    "data = np.loadtxt('running_observations.csv',delimiter=',',skiprows=1)"
   ]
  },
  {
   "cell_type": "code",
   "execution_count": 2,
   "metadata": {
    "collapsed": false
   },
   "outputs": [
    {
     "name": "stdout",
     "output_type": "stream",
     "text": [
      "[6151. 7100. 6834. 6577. 7254. 7316. 7148. 6560. 7544. 6773. 6348. 6272.\n",
      " 7100. 6236. 7274. 6544. 6758. 6984. 6103. 6190. 7327. 6606. 6749. 7411.\n",
      " 6925. 6306. 6966. 7310. 7219. 7359. 7108. 6608. 7344. 7358. 6278. 6888.\n",
      " 6777. 6037. 6962. 6237. 7383. 7021. 6059. 6414. 7309. 6718. 6964. 7222.\n",
      " 7199. 7059. 6837. 7433. 6548. 6483. 6997. 7255. 7533. 7066. 6396. 7327.\n",
      " 7406. 7185. 7453. 6712. 6622. 7395. 6276. 6978. 7314. 7467. 7183. 7367.\n",
      " 7035. 6696. 6395. 7357. 6356. 6508. 7242. 7612. 7179. 6197. 6438. 6009.\n",
      " 6220. 7227. 6711. 7031. 6360. 7021. 6735. 7244. 7262. 7306. 7215. 7149.\n",
      " 6450. 6416. 7104. 6548.]\n"
     ]
    }
   ],
   "source": [
    "distance = data[:,1]\n",
    "print(distance)"
   ]
  },
  {
   "cell_type": "code",
   "execution_count": 3,
   "metadata": {
    "collapsed": false
   },
   "outputs": [
    {
     "name": "stdout",
     "output_type": "stream",
     "text": [
      "[[6151.]\n",
      " [7100.]\n",
      " [6834.]\n",
      " [6577.]\n",
      " [7254.]\n",
      " [7316.]\n",
      " [7148.]\n",
      " [6560.]\n",
      " [7544.]\n",
      " [6773.]\n",
      " [6348.]\n",
      " [6272.]\n",
      " [7100.]\n",
      " [6236.]\n",
      " [7274.]\n",
      " [6544.]\n",
      " [6758.]\n",
      " [6984.]\n",
      " [6103.]\n",
      " [6190.]\n",
      " [7327.]\n",
      " [6606.]\n",
      " [6749.]\n",
      " [7411.]\n",
      " [6925.]\n",
      " [6306.]\n",
      " [6966.]\n",
      " [7310.]\n",
      " [7219.]\n",
      " [7359.]\n",
      " [7108.]\n",
      " [6608.]\n",
      " [7344.]\n",
      " [7358.]\n",
      " [6278.]\n",
      " [6888.]\n",
      " [6777.]\n",
      " [6037.]\n",
      " [6962.]\n",
      " [6237.]\n",
      " [7383.]\n",
      " [7021.]\n",
      " [6059.]\n",
      " [6414.]\n",
      " [7309.]\n",
      " [6718.]\n",
      " [6964.]\n",
      " [7222.]\n",
      " [7199.]\n",
      " [7059.]\n",
      " [6837.]\n",
      " [7433.]\n",
      " [6548.]\n",
      " [6483.]\n",
      " [6997.]\n",
      " [7255.]\n",
      " [7533.]\n",
      " [7066.]\n",
      " [6396.]\n",
      " [7327.]\n",
      " [7406.]\n",
      " [7185.]\n",
      " [7453.]\n",
      " [6712.]\n",
      " [6622.]\n",
      " [7395.]\n",
      " [6276.]\n",
      " [6978.]\n",
      " [7314.]\n",
      " [7467.]\n",
      " [7183.]\n",
      " [7367.]\n",
      " [7035.]\n",
      " [6696.]\n",
      " [6395.]\n",
      " [7357.]\n",
      " [6356.]\n",
      " [6508.]\n",
      " [7242.]\n",
      " [7612.]\n",
      " [7179.]\n",
      " [6197.]\n",
      " [6438.]\n",
      " [6009.]\n",
      " [6220.]\n",
      " [7227.]\n",
      " [6711.]\n",
      " [7031.]\n",
      " [6360.]\n",
      " [7021.]\n",
      " [6735.]\n",
      " [7244.]\n",
      " [7262.]\n",
      " [7306.]\n",
      " [7215.]\n",
      " [7149.]\n",
      " [6450.]\n",
      " [6416.]\n",
      " [7104.]\n",
      " [6548.]]\n"
     ]
    }
   ],
   "source": [
    "distance_reshaped = distance.reshape(-1,1)\n",
    "print(distance_reshaped)"
   ]
  },
  {
   "cell_type": "code",
   "execution_count": 4,
   "metadata": {
    "collapsed": false
   },
   "outputs": [],
   "source": [
    "duration = data[:,0]"
   ]
  },
  {
   "cell_type": "code",
   "execution_count": 5,
   "metadata": {
    "collapsed": false
   },
   "outputs": [
    {
     "data": {
      "text/plain": [
       "KMeans(algorithm='auto', copy_x=True, init='k-means++', max_iter=300,\n",
       "    n_clusters=3, n_init=10, n_jobs=1, precompute_distances='auto',\n",
       "    random_state=None, tol=0.0001, verbose=0)"
      ]
     },
     "execution_count": 5,
     "metadata": {},
     "output_type": "execute_result"
    }
   ],
   "source": [
    "from sklearn.cluster import KMeans\n",
    "kmeans = KMeans(n_clusters=3)\n",
    "kmeans.fit(distance_reshaped)"
   ]
  },
  {
   "cell_type": "code",
   "execution_count": 6,
   "metadata": {
    "collapsed": false
   },
   "outputs": [
    {
     "name": "stdout",
     "output_type": "stream",
     "text": [
      "[[6858.32142857]\n",
      " [7297.61904762]\n",
      " [6330.4       ]]\n",
      "[2 1 0 2 1 1 1 2 1 0 2 2 1 2 1 2 0 0 2 2 1 0 0 1 0 2 0 1 1 1 1 0 1 1 2 0 0\n",
      " 2 0 2 1 0 2 2 1 0 0 1 1 0 0 1 2 2 0 1 1 0 2 1 1 1 1 0 0 1 2 0 1 1 1 1 0 0\n",
      " 2 1 2 2 1 1 1 2 2 2 2 1 0 0 2 0 0 1 1 1 1 1 2 2 1 2]\n"
     ]
    }
   ],
   "source": [
    "centroid = kmeans.cluster_centers_\n",
    "labels = kmeans.labels_\n",
    "\n",
    "print (centroid)\n",
    "print(labels)"
   ]
  },
  {
   "cell_type": "code",
   "execution_count": 7,
   "metadata": {
    "collapsed": false
   },
   "outputs": [
    {
     "data": {
      "text/plain": [
       "(array([0, 1, 2], dtype=int32), array([28, 42, 30]))"
      ]
     },
     "execution_count": 7,
     "metadata": {},
     "output_type": "execute_result"
    }
   ],
   "source": [
    "np.unique(labels, return_counts=True)"
   ]
  },
  {
   "cell_type": "code",
   "execution_count": 8,
   "metadata": {
    "collapsed": true
   },
   "outputs": [],
   "source": [
    "type_0 = duration[labels == 0]\n",
    "type_1 = duration[labels == 1]\n",
    "type_2 = duration[labels == 2]"
   ]
  },
  {
   "cell_type": "code",
   "execution_count": 10,
   "metadata": {
    "collapsed": false
   },
   "outputs": [
    {
     "name": "stdout",
     "output_type": "stream",
     "text": [
      "51.23535714285713\n",
      "50.03738095238096\n",
      "40.84533333333332\n"
     ]
    }
   ],
   "source": [
    "print(np.mean(type_0))\n",
    "print(np.mean(type_1))\n",
    "print(np.mean(type_2))"
   ]
  },
  {
   "cell_type": "code",
   "execution_count": null,
   "metadata": {
    "collapsed": true
   },
   "outputs": [],
   "source": []
  }
 ],
 "metadata": {
  "kernelspec": {
   "display_name": "IPython (Python 3)",
   "language": "python",
   "name": "python3"
  },
  "language_info": {
   "codemirror_mode": {
    "name": "ipython",
    "version": 3
   },
   "file_extension": ".py",
   "mimetype": "text/x-python",
   "name": "python",
   "nbconvert_exporter": "python",
   "pygments_lexer": "ipython3",
   "version": "3.4.3"
  }
 },
 "nbformat": 4,
 "nbformat_minor": 0
}
